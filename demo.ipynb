{
 "cells": [
  {
   "cell_type": "code",
   "execution_count": 2,
   "metadata": {
    "collapsed": true
   },
   "outputs": [
    {
     "name": "stdout",
     "output_type": "stream",
     "text": [
      "{'labels': ['sport', 'news', 'travel'], 'scores': [0.9904438257217407, 0.00824122503399849, 0.001314967987127602], 'sequence': 'I love to play football every day'}\n"
     ]
    }
   ],
   "source": [
    "import requests\n",
    "\n",
    "url = \"http://localhost:5000/predict/\"\n",
    "\n",
    "# data to be sent to api\n",
    "data = {\"text\": \"I love to play football every day\",\n",
    "        \"candidate_labels\": [\"news\", \"sport\", \"travel\"]\n",
    "        }\n",
    "\n",
    "# sending post request and saving response as response object\n",
    "r = requests.post(url=url, json=data)\n",
    "\n",
    "print(r.json())"
   ]
  }
 ],
 "metadata": {
  "kernelspec": {
   "display_name": "Python 3",
   "language": "python",
   "name": "python3"
  },
  "language_info": {
   "codemirror_mode": {
    "name": "ipython",
    "version": 2
   },
   "file_extension": ".py",
   "mimetype": "text/x-python",
   "name": "python",
   "nbconvert_exporter": "python",
   "pygments_lexer": "ipython2",
   "version": "2.7.6"
  }
 },
 "nbformat": 4,
 "nbformat_minor": 0
}
